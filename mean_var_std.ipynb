{
 "cells": [
  {
   "cell_type": "code",
   "execution_count": 1,
   "id": "c14f9609-6f1a-471e-9f86-cc7f17464cbc",
   "metadata": {},
   "outputs": [],
   "source": [
    "# loading of the requiredd librairies\n",
    "import numpy as np"
   ]
  },
  {
   "cell_type": "code",
   "execution_count": 2,
   "id": "5181ac69-0cb7-4168-8dd6-da7efceaf091",
   "metadata": {},
   "outputs": [],
   "source": [
    "def calcul(valeurs, function):\n",
    "    axis1 = []\n",
    "    axis2 = []\n",
    "    for i in range(len(valeurs)):\n",
    "        x = [valeurs[0][i], valeurs[1][i], valeurs[2][i]]\n",
    "        axis1.append(function(x))\n",
    "        \n",
    "    for i in range(len(valeurs)):\n",
    "        y = valeurs[i]\n",
    "        axis2.append(function(y))\n",
    "    return [axis1, axis2, function(valeurs)]"
   ]
  },
  {
   "cell_type": "code",
   "execution_count": 3,
   "id": "1b293a2e-abce-45e5-b656-a1ec469a5e29",
   "metadata": {},
   "outputs": [],
   "source": [
    "def calculate(list):\n",
    "    try:\n",
    "        list_shaped = np.array(list).reshape((3, 3))\n",
    "        calculations = {}\n",
    "        calculations[\"mean\"] = calcul(list_shaped, np.mean)\n",
    "        calculations[\"variance\"] = calcul(list_shaped, np.var)\n",
    "        calculations[\"standard deviation\"] = calcul(list_shaped, np.std)\n",
    "        calculations[\"max\"] = calcul(list_shaped, np.max)\n",
    "        calculations[\"min\"] = calcul(list_shaped, np.min)\n",
    "        calculations[\"sum\"] = calcul(list_shaped, np.sum)\n",
    "        return calculations\n",
    "    except:raise ValueError(\"List must contain nine numbers.\")"
   ]
  },
  {
   "cell_type": "code",
   "execution_count": 4,
   "id": "fd20252a-9cb3-460c-a6ef-772fc802df57",
   "metadata": {},
   "outputs": [
    {
     "data": {
      "text/plain": [
       "{'mean': [[3.0, 4.0, 5.0], [1.0, 4.0, 7.0], 4.0],\n",
       " 'variance': [[6.0, 6.0, 6.0],\n",
       "  [0.6666666666666666, 0.6666666666666666, 0.6666666666666666],\n",
       "  6.666666666666667],\n",
       " 'standard deviation': [[2.449489742783178,\n",
       "   2.449489742783178,\n",
       "   2.449489742783178],\n",
       "  [0.816496580927726, 0.816496580927726, 0.816496580927726],\n",
       "  2.581988897471611],\n",
       " 'max': [[6, 7, 8], [2, 5, 8], 8],\n",
       " 'min': [[0, 1, 2], [0, 3, 6], 0],\n",
       " 'sum': [[9, 12, 15], [3, 12, 21], 36]}"
      ]
     },
     "execution_count": 4,
     "metadata": {},
     "output_type": "execute_result"
    }
   ],
   "source": [
    "calculate(np.arange(9))"
   ]
  }
 ],
 "metadata": {
  "kernelspec": {
   "display_name": "Python 3 (ipykernel)",
   "language": "python",
   "name": "python3"
  },
  "language_info": {
   "codemirror_mode": {
    "name": "ipython",
    "version": 3
   },
   "file_extension": ".py",
   "mimetype": "text/x-python",
   "name": "python",
   "nbconvert_exporter": "python",
   "pygments_lexer": "ipython3",
   "version": "3.10.6"
  }
 },
 "nbformat": 4,
 "nbformat_minor": 5
}
