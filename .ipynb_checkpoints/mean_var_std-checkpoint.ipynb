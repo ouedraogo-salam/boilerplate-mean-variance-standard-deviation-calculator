{
 "cells": [
  {
   "cell_type": "code",
   "execution_count": 1,
   "id": "c14f9609-6f1a-471e-9f86-cc7f17464cbc",
   "metadata": {},
   "outputs": [],
   "source": [
    "# loading of the requiredd librairies\n",
    "import numpy as np"
   ]
  },
  {
   "cell_type": "code",
   "execution_count": 2,
   "id": "7d9221bd-88e6-4552-b8a7-8c4493b68a7f",
   "metadata": {},
   "outputs": [
    {
     "data": {
      "text/plain": [
       "array([[0, 1, 2],\n",
       "       [3, 4, 5],\n",
       "       [6, 7, 8]])"
      ]
     },
     "execution_count": 2,
     "metadata": {},
     "output_type": "execute_result"
    }
   ],
   "source": [
    "valeurs = np.arange(9).reshape((3, 3))\n",
    "valeurs"
   ]
  },
  {
   "cell_type": "code",
   "execution_count": 3,
   "id": "5181ac69-0cb7-4168-8dd6-da7efceaf091",
   "metadata": {},
   "outputs": [],
   "source": [
    "def calcul(array, function):\n",
    "    axis1 = []\n",
    "    axis2 = []\n",
    "    for i in range(len(valeurs)):\n",
    "        x = [valeurs[0][i], valeurs[1][i], valeurs[2][i]]\n",
    "        axis1.append(function(x))\n",
    "        \n",
    "    for i in range(len(valeurs)):\n",
    "        y = valeurs[i]\n",
    "        axis2.append(function(y))\n",
    "    return [axis1, axis2, function(array)]"
   ]
  },
  {
   "cell_type": "code",
   "execution_count": 4,
   "id": "fd20252a-9cb3-460c-a6ef-772fc802df57",
   "metadata": {},
   "outputs": [],
   "source": [
    "\n",
    "result = {}\n",
    "result[\"mean\"] = calcul(valeurs, np.mean)\n",
    "result[\"variance\"] = calcul(valeurs, np.var)\n",
    "result[\"standard deviation\"] = calcul(valeurs, np.std)\n",
    "result[\"max\"] = calcul(valeurs, np.max)\n",
    "result[\"min\"] = calcul(valeurs, np.min)\n",
    "result[\"sum\"] = calcul(valeurs, np.sum)"
   ]
  },
  {
   "cell_type": "code",
   "execution_count": 6,
   "id": "03a23cbd-6f03-40cc-beb1-da0e28a87174",
   "metadata": {},
   "outputs": [
    {
     "data": {
      "text/plain": [
       "{'mean': [[3.0, 4.0, 5.0], [1.0, 4.0, 7.0], 4.0],\n",
       " 'variance': [[6.0, 6.0, 6.0],\n",
       "  [0.6666666666666666, 0.6666666666666666, 0.6666666666666666],\n",
       "  6.666666666666667],\n",
       " 'standard deviation': [[2.449489742783178,\n",
       "   2.449489742783178,\n",
       "   2.449489742783178],\n",
       "  [0.816496580927726, 0.816496580927726, 0.816496580927726],\n",
       "  2.581988897471611],\n",
       " 'max': [[6, 7, 8], [2, 5, 8], 8],\n",
       " 'min': [[0, 1, 2], [0, 3, 6], 0],\n",
       " 'sum': [[9, 12, 15], [3, 12, 21], 36]}"
      ]
     },
     "execution_count": 6,
     "metadata": {},
     "output_type": "execute_result"
    }
   ],
   "source": [
    "result"
   ]
  },
  {
   "cell_type": "code",
   "execution_count": 14,
   "id": "a93becde-c822-4b15-9740-7a8cf484c1f3",
   "metadata": {},
   "outputs": [],
   "source": [
    "list = [0,1,2,3,4,5,6,7,8]\n",
    "list_shaped = np.array(list).reshape((3, 3))"
   ]
  },
  {
   "cell_type": "code",
   "execution_count": 15,
   "id": "6b0b9634-5793-4a38-8416-11965144cdef",
   "metadata": {},
   "outputs": [
    {
     "data": {
      "text/plain": [
       "array([[0, 1, 2],\n",
       "       [3, 4, 5],\n",
       "       [6, 7, 8]])"
      ]
     },
     "execution_count": 15,
     "metadata": {},
     "output_type": "execute_result"
    }
   ],
   "source": [
    "list_shaped"
   ]
  }
 ],
 "metadata": {
  "kernelspec": {
   "display_name": "Python 3 (ipykernel)",
   "language": "python",
   "name": "python3"
  },
  "language_info": {
   "codemirror_mode": {
    "name": "ipython",
    "version": 3
   },
   "file_extension": ".py",
   "mimetype": "text/x-python",
   "name": "python",
   "nbconvert_exporter": "python",
   "pygments_lexer": "ipython3",
   "version": "3.10.6"
  }
 },
 "nbformat": 4,
 "nbformat_minor": 5
}
